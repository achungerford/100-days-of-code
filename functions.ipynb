{
 "cells": [
  {
   "cell_type": "markdown",
   "metadata": {},
   "source": [
    "# Python Crash Course: Ch. 8 - Functions"
   ]
  },
  {
   "cell_type": "markdown",
   "metadata": {},
   "source": [
    "#### Create a function.\n",
    "\n",
    "`def` tells python you're defining a function. The function definition tells python the name of the function, and if any arguments are needed. The comment in 3 double quotes `\"\"\"docstring\"\"\"` is called a `docstring`. A docstring should explain what your function does."
   ]
  },
  {
   "cell_type": "code",
   "execution_count": 1,
   "metadata": {},
   "outputs": [],
   "source": [
    "# here's a function nammed 'greet_user' that prints a greeting\n",
    "\n",
    "def greet_user():\n",
    "    \"\"\"display a message\"\"\"    # docstring describes what the function does.\n",
    "    print(\"Hello user!\")"
   ]
  },
  {
   "cell_type": "markdown",
   "metadata": {},
   "source": [
    "#### Call the function you created."
   ]
  },
  {
   "cell_type": "code",
   "execution_count": 2,
   "metadata": {},
   "outputs": [
    {
     "name": "stdout",
     "output_type": "stream",
     "text": [
      "Hello user!\n"
     ]
    }
   ],
   "source": [
    "# call the function\n",
    "greet_user()"
   ]
  },
  {
   "cell_type": "markdown",
   "metadata": {},
   "source": [
    "#### Functions with Arguments"
   ]
  },
  {
   "cell_type": "code",
   "execution_count": 3,
   "metadata": {},
   "outputs": [
    {
     "name": "stdout",
     "output_type": "stream",
     "text": [
      "Hello King_James, welcome to Cleveland.\n"
     ]
    }
   ],
   "source": [
    "def greet_user(username, city):\n",
    "    \"\"\"personalized greeting\"\"\"\n",
    "    print(\"Hello \" + username.title() + \", welcome to \" + city + \".\")\n",
    "\n",
    "greet_user('king_james', 'Cleveland')"
   ]
  },
  {
   "cell_type": "code",
   "execution_count": 4,
   "metadata": {},
   "outputs": [
    {
     "name": "stdout",
     "output_type": "stream",
     "text": [
      "Hello Kobe, welcome to Los Angeles.\n",
      "Hello Anthony_Davis, welcome to California.\n"
     ]
    }
   ],
   "source": [
    "# You can call a function as many times as you need\n",
    "\n",
    "greet_user('kobe', 'Los Angeles')\n",
    "greet_user('anthony_davis', 'California')"
   ]
  },
  {
   "cell_type": "markdown",
   "metadata": {},
   "source": [
    "### Keyword Arguments\n",
    "\n",
    "A `keyword argument` is a name-value pair that you pass to a function. In a keyword argument, you explicitly associate the name and the value within the argument. This way, you don't have to worry about having arguments in the correct order."
   ]
  },
  {
   "cell_type": "code",
   "execution_count": 5,
   "metadata": {},
   "outputs": [
    {
     "name": "stdout",
     "output_type": "stream",
     "text": [
      "\n",
      "I have a hamster.\n",
      "My hamster's name is Harry\n"
     ]
    }
   ],
   "source": [
    "def describe_pet(animal_type, pet_name):\n",
    "    \"\"\"Display info about a pet.\"\"\"\n",
    "    print('\\nI have a ' + animal_type + \".\")\n",
    "    print('My ' + animal_type + \"'s name is \" + pet_name.title())\n",
    "\n",
    "describe_pet(animal_type = 'hamster', pet_name = 'harry')"
   ]
  },
  {
   "cell_type": "code",
   "execution_count": 6,
   "metadata": {},
   "outputs": [
    {
     "name": "stdout",
     "output_type": "stream",
     "text": [
      "\n",
      "I have a hamster.\n",
      "My hamster's name is Harry\n",
      "\n",
      "I have a hamster.\n",
      "My hamster's name is Harry\n"
     ]
    }
   ],
   "source": [
    "# can switch the order when you use keyword arguments\n",
    "\n",
    "describe_pet(animal_type = 'hamster', pet_name = 'harry')\n",
    "describe_pet(pet_name = 'harry', animal_type = 'hamster')"
   ]
  },
  {
   "cell_type": "markdown",
   "metadata": {},
   "source": [
    "### Assigning Default Values for Arguments\n",
    "\n",
    "If an argument for a parameter is present in the fucntion call, Python uses that value. If not, it uses the parameter's default value. Note that the order of the arguments still matters."
   ]
  },
  {
   "cell_type": "code",
   "execution_count": 7,
   "metadata": {},
   "outputs": [
    {
     "name": "stdout",
     "output_type": "stream",
     "text": [
      "\n",
      "I have a dog.\n",
      "My dog's name is Fiona\n",
      "\n",
      "I have a dog.\n",
      "My dog's name is Percy\n"
     ]
    }
   ],
   "source": [
    "def describe_pet(pet_name, animal_type = 'dog'):\n",
    "    \"\"\"Display info about a pet.\"\"\"\n",
    "    print('\\nI have a ' + animal_type + \".\")\n",
    "    print('My ' + animal_type + \"'s name is \" + pet_name.title())\n",
    "\n",
    "describe_pet(pet_name = 'fiona')\n",
    "describe_pet(pet_name = 'percy')"
   ]
  },
  {
   "cell_type": "markdown",
   "metadata": {},
   "source": [
    "Python can ignore default values if you want it to. However, when using default values, any aprameter with a default value needs to be listed **after** all the parameters that don't have default values."
   ]
  },
  {
   "cell_type": "code",
   "execution_count": 8,
   "metadata": {},
   "outputs": [
    {
     "name": "stdout",
     "output_type": "stream",
     "text": [
      "\n",
      "I have a cat.\n",
      "My cat's name is Lewis\n"
     ]
    }
   ],
   "source": [
    "describe_pet(pet_name = 'Lewis', animal_type = 'cat')"
   ]
  },
  {
   "cell_type": "markdown",
   "metadata": {},
   "source": [
    "### Return Values\n",
    "\n",
    "Functions don't have to display their output directly. Instead, they can process data and then *return* a value or set of values. The `return` statement takes a value from inside a function and sends it back tot he line that called the function."
   ]
  },
  {
   "cell_type": "code",
   "execution_count": 9,
   "metadata": {},
   "outputs": [
    {
     "name": "stdout",
     "output_type": "stream",
     "text": [
      "Barack Obama\n"
     ]
    }
   ],
   "source": [
    "def format_name(first, last):\n",
    "    \"\"\"Return a full name, neatly formatted\"\"\"\n",
    "    full_name = first + ' ' + last\n",
    "    return full_name.title()\n",
    "\n",
    "potus = format_name('barack', 'obama')\n",
    "print(potus)"
   ]
  },
  {
   "cell_type": "markdown",
   "metadata": {},
   "source": [
    "### Making Arguments Optional\n",
    "\n",
    "You may want an argument to be optional so people using the function can choose to provide extra information only if they want to."
   ]
  },
  {
   "cell_type": "code",
   "execution_count": 10,
   "metadata": {},
   "outputs": [
    {
     "name": "stdout",
     "output_type": "stream",
     "text": [
      "Barack Obama\n",
      "William Jefferson Clinton\n"
     ]
    }
   ],
   "source": [
    "# note that we put middle last bc it has a default value (empty)\n",
    "def format_name(first, last, middle = ''):\n",
    "    \"\"\"Return a full name neatly formatted\"\"\"\n",
    "    \n",
    "    if middle:\n",
    "        full_name = first + ' ' + middle + ' ' + last\n",
    "    else:\n",
    "        full_name = first + ' ' + last\n",
    "    return full_name.title()\n",
    "\n",
    "potus = format_name('barack', 'obama')\n",
    "print(potus)\n",
    "\n",
    "potus = format_name('william', 'clinton', 'jefferson')\n",
    "print(potus)\n"
   ]
  },
  {
   "cell_type": "markdown",
   "metadata": {},
   "source": [
    "### Return a Dictionary"
   ]
  },
  {
   "cell_type": "code",
   "execution_count": 11,
   "metadata": {},
   "outputs": [
    {
     "name": "stdout",
     "output_type": "stream",
     "text": [
      "{'first': 'bill', 'last': 'clinton', 'age': 72}\n"
     ]
    }
   ],
   "source": [
    "def build_person(first_name, last_name, age = ''):\n",
    "    \"\"\"Return a dectionary of info about a person\"\"\"\n",
    "    person = {'first': first_name, 'last': last_name}\n",
    "    if age:\n",
    "        person['age'] = age\n",
    "    return person\n",
    "\n",
    "potus = build_person('bill', 'clinton', 72)\n",
    "print(potus)"
   ]
  },
  {
   "cell_type": "markdown",
   "metadata": {},
   "source": [
    "### Using a Function with a while loop"
   ]
  },
  {
   "cell_type": "code",
   "execution_count": 14,
   "metadata": {},
   "outputs": [
    {
     "name": "stdout",
     "output_type": "stream",
     "text": [
      "\n",
      "Please tell me your name:\n",
      "(enter 'q' at any time to quit)\n"
     ]
    },
    {
     "name": "stdin",
     "output_type": "stream",
     "text": [
      "First name:  Barack\n",
      "Last name:  q\n"
     ]
    },
    {
     "name": "stdout",
     "output_type": "stream",
     "text": [
      "Welcome Barack Q!\n"
     ]
    }
   ],
   "source": [
    "def get_formatted_name(first_name, last_name):\n",
    "    \"\"\"formatting names\"\"\"\n",
    "    full_name = first_name + ' ' + last_name\n",
    "    return full_name.title()\n",
    "\n",
    "# an infinite loop with a quit option\n",
    "while True:\n",
    "    print(\"\\nPlease tell me your name:\")\n",
    "    print(\"(enter 'q' at any time to quit)\")\n",
    "    \n",
    "    # prompt user for first name, or quit\n",
    "    f_name = input('First name: ')\n",
    "    if f_name == 'q':\n",
    "        break\n",
    "    \n",
    "    # prompt user for last name, or quit\n",
    "    l_name = input('Last name: ')\n",
    "    if l_name == 'q':\n",
    "        break\n",
    "\n",
    "formatted_name = format_name(f_name, l_name)\n",
    "print('Welcome ' + formatted_name + '!')"
   ]
  },
  {
   "cell_type": "markdown",
   "metadata": {},
   "source": [
    "### Passing a List"
   ]
  },
  {
   "cell_type": "code",
   "execution_count": 16,
   "metadata": {},
   "outputs": [
    {
     "name": "stdout",
     "output_type": "stream",
     "text": [
      "Hello, Barack!\n",
      "Hello, Michele!\n",
      "Hello, Malia!\n",
      "Hello, Sasha!\n"
     ]
    }
   ],
   "source": [
    "def greet_users(names):\n",
    "    \"\"\"Print a simple greeting to each user in the list.\"\"\"\n",
    "    for name in names:\n",
    "        msg = \"Hello, \" + name.title() + '!'\n",
    "        print(msg)\n",
    "\n",
    "usernames = ['barack', 'michele', 'malia', 'sasha']\n",
    "greet_users(usernames)"
   ]
  },
  {
   "cell_type": "markdown",
   "metadata": {},
   "source": [
    "#### Modify a List in a Function"
   ]
  },
  {
   "cell_type": "code",
   "execution_count": 18,
   "metadata": {},
   "outputs": [
    {
     "name": "stdout",
     "output_type": "stream",
     "text": [
      "Printing model: wall hook\n",
      "Printing model: keychain\n",
      "Printing model: iPhone case\n",
      "\n",
      "The following models have been printed: \n",
      "wall hook\n",
      "keychain\n",
      "iPhone case\n"
     ]
    }
   ],
   "source": [
    "# Imagine we want to 3D print some designs\n",
    "\n",
    "# start with 2 lists - one is empty\n",
    "unprinted_designs = ['iPhone case', 'keychain', 'wall hook']\n",
    "completed_models = []\n",
    "\n",
    "\n",
    "# Simulate the printing and move each design to completed_models\n",
    "# while unprinted_desings contains items\n",
    "while unprinted_designs:\n",
    "    # pop out the next item and print it\n",
    "    current_design = unprinted_designs.pop()\n",
    "    \n",
    "    # simulate creating a 3D print\n",
    "    print('Printing model: ' + current_design)\n",
    "    \n",
    "    # when done, move current to completed\n",
    "    completed_models.append(current_design)\n",
    "    \n",
    "# Display all completed models.\n",
    "print('\\nThe following models have been printed: ')\n",
    "for completed_model in completed_models:\n",
    "    print(completed_model)    "
   ]
  },
  {
   "cell_type": "markdown",
   "metadata": {},
   "source": [
    "Rewrite the code above by writing two functions, each of which does one specific job. This is refactoring code -- making it more efficient."
   ]
  },
  {
   "cell_type": "code",
   "execution_count": 21,
   "metadata": {},
   "outputs": [
    {
     "name": "stdout",
     "output_type": "stream",
     "text": [
      "Printing model: wall hook\n",
      "Printing model: keychain\n",
      "Printing model: iPhone case\n",
      "\n",
      "The following mmodels have been printed: \n",
      "wall hook\n",
      "keychain\n",
      "iPhone case\n"
     ]
    }
   ],
   "source": [
    "def print_models(unprinted_designs, completed_models):\n",
    "    \"\"\"\n",
    "    Simulate printing each design until none are left.\n",
    "    Move each design to completed_mmodels after printing.\n",
    "    \"\"\"\n",
    "    while unprinted_designs:\n",
    "        current_design = unprinted_designs.pop()\n",
    "        \n",
    "        # simulate creatinga 3D print from the design\n",
    "        print('Printing model: ' + current_design)\n",
    "        completed_models.append(current_design)\n",
    "        \n",
    "def show_completed_models(completed_models):\n",
    "    \"\"\"Show all the models we printed.\"\"\"\n",
    "    print('\\nThe following mmodels have been printed: ')\n",
    "    for completed_model in completed_models:\n",
    "        print(completed_model)\n",
    "\n",
    "unprinted_designs = ['iPhone case', 'keychain', 'wall hook']\n",
    "completed_models = []\n",
    "\n",
    "# function calls\n",
    "print_models(unprinted_designs, completed_models)\n",
    "show_completed_models(completed_models)"
   ]
  },
  {
   "cell_type": "markdown",
   "metadata": {},
   "source": [
    "#### Preventing a Function from Modifying a List\n",
    "\n",
    "There may be moments when you want to prevent a function from modifying a list. For example, say you start with a list of unprinted designs write a function to move them to a list of completed models as in the above examples, but after printing, you want to keep the original list of unprinted designs for your records. In this case, you can pass the function a copy of the list, not the original. Any changes made to the list will affect only the copy, leaving the orginal list intact."
   ]
  },
  {
   "cell_type": "markdown",
   "metadata": {},
   "source": [
    "#### Send a copy of a list to a function\n",
    "\n",
    "`function_name(list_name[:])`  The slice notation `[:]` makes a copy of the list."
   ]
  },
  {
   "cell_type": "code",
   "execution_count": 23,
   "metadata": {},
   "outputs": [],
   "source": [
    "print_models(unprinted_designs[:], completed_models)"
   ]
  },
  {
   "cell_type": "markdown",
   "metadata": {},
   "source": [
    "### Passing an Arbitrary Number of Arguments\n",
    "\n",
    "Sometimes you won't know ahead of time how many arguments a function needs to accept. For example, consider a function that creates a pizza by accepting a number of toppings, but you can't know ahead of time how many toppings a person will want. The asterisk tells Python to make an empty tuple."
   ]
  },
  {
   "cell_type": "code",
   "execution_count": 25,
   "metadata": {},
   "outputs": [
    {
     "name": "stdout",
     "output_type": "stream",
     "text": [
      "('pepperoni',)\n",
      "('mushrooms', 'green peppers', 'extra cheese')\n"
     ]
    }
   ],
   "source": [
    "def make_pizza(*toppings):\n",
    "    \"\"\"Print the list of toppings that have been requested.\"\"\"\n",
    "    print(toppings)\n",
    "\n",
    "make_pizza('pepperoni')\n",
    "make_pizza('mushrooms', 'green peppers', 'extra cheese')"
   ]
  },
  {
   "cell_type": "markdown",
   "metadata": {},
   "source": [
    "Python packs the arguments into a tuple even if the function receives only one value. Now we can replace the print statement with a loop."
   ]
  },
  {
   "cell_type": "code",
   "execution_count": 27,
   "metadata": {},
   "outputs": [
    {
     "name": "stdout",
     "output_type": "stream",
     "text": [
      "\n",
      "Making a pizza with the following toppings:\n",
      "- pepperoni\n",
      "\n",
      "Making a pizza with the following toppings:\n",
      "- mushrooms\n",
      "- green peppers\n",
      "- extra cheese\n"
     ]
    }
   ],
   "source": [
    "def make_pizza(*toppings):\n",
    "    \"\"\"Summarize the pizza we are about to make.\"\"\"\n",
    "    print('\\nMaking a pizza with the following toppings:')\n",
    "    for topping in toppings:\n",
    "        print('- ' + topping)\n",
    "\n",
    "make_pizza('pepperoni')\n",
    "make_pizza('mushrooms', 'green peppers', 'extra cheese')"
   ]
  },
  {
   "cell_type": "markdown",
   "metadata": {},
   "source": [
    "#### Mixing Positional and Arbitrary Arguments\n",
    "\n",
    "The parameter that accepts an arbitrary number of arguments must be placed last in the function definition."
   ]
  },
  {
   "cell_type": "code",
   "execution_count": 1,
   "metadata": {},
   "outputs": [
    {
     "name": "stdout",
     "output_type": "stream",
     "text": [
      "\n",
      "Making a 16-inch pizza with the following toppings:\n",
      "- pepperoni\n",
      "\n",
      "Making a 12-inch pizza with the following toppings:\n",
      "- mushrooms\n",
      "- green peppers\n",
      "- extra cheese\n"
     ]
    }
   ],
   "source": [
    "def make_pizza(size, *toppings):\n",
    "    \"\"\"Summarize the pizza\"\"\"\n",
    "    print('\\nMaking a ' + str(size) + '-inch pizza' + \n",
    "          ' with the following toppings:')\n",
    "    for topping in toppings:\n",
    "        print('- ' + topping)\n",
    "\n",
    "make_pizza(16, 'pepperoni')\n",
    "make_pizza(12, 'mushrooms', 'green peppers', 'extra cheese')"
   ]
  },
  {
   "cell_type": "markdown",
   "metadata": {},
   "source": [
    "#### Using Arbitrary Keyword Arguments\n",
    "\n",
    "Somtimes you'll want to accept an arbitrary number of arguments, but you won't know ahead of time what kind of information will be passed to the function. In this case, you can write functions that accept as many key-value pairs as the calling statement provides. One example would be in building user profiles. The `**` (double asterisk) before the parameter **causes Python to create an empty dictionary called `user_info` and pack whatever name-value pairs it receives into this dictionary.**"
   ]
  },
  {
   "cell_type": "code",
   "execution_count": 2,
   "metadata": {},
   "outputs": [
    {
     "name": "stdout",
     "output_type": "stream",
     "text": [
      "{'first_name': 'albert', 'last_name': 'einstein', 'location': 'princeton', 'field': 'physics'}\n"
     ]
    }
   ],
   "source": [
    "# requires first, last; then allows user to pass as many name-value pairs as they want\n",
    "def build_profile(first, last, **user_info):\n",
    "    \"\"\"Build a dictionary containing everything we know about a user.\"\"\"\n",
    "    profile = {}\n",
    "    \n",
    "    # add required\n",
    "    profile['first_name'] = first\n",
    "    profile['last_name'] = last\n",
    "    \n",
    "    # loop through the aditional key-value pairs\n",
    "    for key, value in user_info.items():\n",
    "        profile[key] = value\n",
    "    return profile\n",
    "\n",
    "user_profile = build_profile('albert','einstein', \n",
    "                             location = 'princeton', \n",
    "                             field = 'physics'\n",
    "                            )\n",
    "\n",
    "print(user_profile)"
   ]
  },
  {
   "cell_type": "code",
   "execution_count": null,
   "metadata": {},
   "outputs": [],
   "source": []
  }
 ],
 "metadata": {
  "kernelspec": {
   "display_name": "Python 3",
   "language": "python",
   "name": "python3"
  },
  "language_info": {
   "codemirror_mode": {
    "name": "ipython",
    "version": 3
   },
   "file_extension": ".py",
   "mimetype": "text/x-python",
   "name": "python",
   "nbconvert_exporter": "python",
   "pygments_lexer": "ipython3",
   "version": "3.7.1"
  }
 },
 "nbformat": 4,
 "nbformat_minor": 2
}
