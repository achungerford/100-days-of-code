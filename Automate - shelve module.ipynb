{
 "cells": [
  {
   "cell_type": "markdown",
   "metadata": {},
   "source": [
    "## Ch 8 (3 of 3) Saving Variables with Shelve module\n",
    "\n",
    "You can save variables in your Python programs to binary shelf files using the `shelve` module. This way, your program can restore data to variables from the hard drive. The shelve module will let you add **Save** and **Open** features to your program. For example, if you ran a program and entered some configuration settings, you could save those settings to a shelf file and then have the program load them the next time it is run."
   ]
  },
  {
   "cell_type": "code",
   "execution_count": 1,
   "metadata": {},
   "outputs": [],
   "source": [
    "import os\n",
    "import shelve"
   ]
  },
  {
   "cell_type": "markdown",
   "metadata": {},
   "source": [
    "Steps:\n",
    "1. import shelve\n",
    "2. call `shelve.open()`, pass it a file name, and store the returned shelf value in a variable.\n",
    "3. make any changes you want to the shelf value as if it were a dictionary\n",
    "4. call `close()` on the shelf value\n",
    "\n",
    "After running the code below on Windows you'll see 3 new files in the cwd -- `mydata.bak`, `mydata.dat`, and `mydata.dir`. On OS X only a single `mydata.db` file will be created. These binary files contain the data you stored in your shelf. The format of these binary files is not important; you only need to know what the shelve module does, not how it does it. The module frees you from worrying about how to store your program’s data to a file."
   ]
  },
  {
   "cell_type": "code",
   "execution_count": 2,
   "metadata": {},
   "outputs": [],
   "source": [
    "# store our value in shelfFile\n",
    "shelfFile = shelve.open('mydata')\n",
    "\n",
    "# create a list of data\n",
    "cats = ['Lewis', 'Clark', 'Rastas']\n",
    "\n",
    "# unsure what this does\n",
    "shelfFile['cats'] = cats\n",
    "\n",
    "shelfFile.close()"
   ]
  },
  {
   "cell_type": "markdown",
   "metadata": {},
   "source": [
    "Your programs can use the shelve module to later reopen and retrieve the data from these shelf files. Shelf values don’t have to be opened in read or write mode — they can do both once opened."
   ]
  },
  {
   "cell_type": "code",
   "execution_count": null,
   "metadata": {},
   "outputs": [],
   "source": []
  }
 ],
 "metadata": {
  "kernelspec": {
   "display_name": "Python 3",
   "language": "python",
   "name": "python3"
  },
  "language_info": {
   "codemirror_mode": {
    "name": "ipython",
    "version": 3
   },
   "file_extension": ".py",
   "mimetype": "text/x-python",
   "name": "python",
   "nbconvert_exporter": "python",
   "pygments_lexer": "ipython3",
   "version": "3.7.1"
  }
 },
 "nbformat": 4,
 "nbformat_minor": 2
}
