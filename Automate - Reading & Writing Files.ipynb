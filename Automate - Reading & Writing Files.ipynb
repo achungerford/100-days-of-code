{
 "cells": [
  {
   "cell_type": "markdown",
   "metadata": {},
   "source": [
    "## Ch. 8 (2 of 3): Reading & Writing Files"
   ]
  },
  {
   "cell_type": "markdown",
   "metadata": {},
   "source": [
    "The functions covered in the next few sections will apply to **plaintext files**. Plaintext files contain only basic text characters and do not include font, size, or color information. Text files with the `.txt` extension or Python script files with the `.py` extension are examples of plaintext files. These can be opened with Windows’s Notepad or OS X’s TextEdit application. Your programs can easily read the contents of plaintext files and treat them as an ordinary string value.\n",
    "\n",
    "**Binary files** are all other file types, such as word processing documents, PDFs, images, spreadsheets, and executable programs. If you open a binary file in Notepad or TextEdit, it will look like scrambled nonsense.\n",
    "\n",
    "There are three steps to reading or writing files in Python.\n",
    "\n",
    "1. Call the open() function to return a File object.\n",
    "\n",
    "2. Call the read() or write() method on the File object.\n",
    "\n",
    "3. Close the file by calling the close() method on the File object."
   ]
  },
  {
   "cell_type": "code",
   "execution_count": 1,
   "metadata": {},
   "outputs": [],
   "source": [
    "import os"
   ]
  },
  {
   "cell_type": "markdown",
   "metadata": {},
   "source": [
    "## Open file: `fh = open('path')`\n",
    "\n",
    "Pass it a string path - relative or absolute. Be sure to assign the file to some kind of variable or file handle as shown above. If you just run `open('path')` it is difficult to close the file."
   ]
  },
  {
   "cell_type": "code",
   "execution_count": 2,
   "metadata": {},
   "outputs": [],
   "source": [
    "exampleFile = open('C:\\\\Users\\\\Alexander\\\\Documents\\\\Programming\\\\Python\\\\100-days-of-code\\\\example.txt')"
   ]
  },
  {
   "cell_type": "markdown",
   "metadata": {},
   "source": [
    "Read mode is the default mode for files you open in Python. But if you don’t want to rely on Python’s defaults, you can explicitly specify the mode by passing the string value 'r' as a second argument to open().\n",
    "\n",
    "`fh = open('\\\\path\\\\to\\\\example.txt', 'r')`\n",
    "\n",
    "and\n",
    "\n",
    "`fh = open('\\\\path\\\\to\\\\example.txt')` do the same thing."
   ]
  },
  {
   "cell_type": "markdown",
   "metadata": {},
   "source": [
    "## Read file content\n",
    "\n",
    "If you want to read the entire contents of a file as a string value, use the File object’s `read()` method."
   ]
  },
  {
   "cell_type": "code",
   "execution_count": 3,
   "metadata": {},
   "outputs": [
    {
     "data": {
      "text/plain": [
       "'Example file 1.'"
      ]
     },
     "execution_count": 3,
     "metadata": {},
     "output_type": "execute_result"
    }
   ],
   "source": [
    "# read entire content of the file as a string\n",
    "exampleContent = exampleFile.read()\n",
    "\n",
    "# display the string\n",
    "exampleContent"
   ]
  },
  {
   "cell_type": "markdown",
   "metadata": {},
   "source": [
    "Alternatively, you can use the `readlines()` method to get a list of string values from the file. One string for each line of text."
   ]
  },
  {
   "cell_type": "code",
   "execution_count": 4,
   "metadata": {},
   "outputs": [
    {
     "data": {
      "text/plain": [
       "['One fish,\\n', 'Two fish,\\n', 'Red fish blue fish.']"
      ]
     },
     "execution_count": 4,
     "metadata": {},
     "output_type": "execute_result"
    }
   ],
   "source": [
    "# open file 'example2.txt' and read the file, store content in example2File object\n",
    "example2File = open('example2.txt', 'r')\n",
    "\n",
    "# read each line as a separate string\n",
    "example2File.readlines()"
   ]
  },
  {
   "cell_type": "markdown",
   "metadata": {},
   "source": [
    "## Close file: close('path')"
   ]
  },
  {
   "cell_type": "code",
   "execution_count": 5,
   "metadata": {},
   "outputs": [],
   "source": [
    "# invoke the close method on the File object\n",
    "exampleFile.close()\n",
    "example2File.close()"
   ]
  },
  {
   "cell_type": "markdown",
   "metadata": {},
   "source": [
    "## Write content to a file"
   ]
  },
  {
   "cell_type": "markdown",
   "metadata": {},
   "source": [
    "Python allows you to write content to a file in a way similar to how the print() function “writes” strings to the screen. You can’t write to a file you’ve opened in read mode, though. Instead, you need to open it in “write plaintext” mode or “append plaintext” mode, or `write mode` and `append mode` for short.\n",
    "\n",
    "Write mode will overwrite the existing file and start from scratch, just like when you overwrite a variable’s value with a new value. Pass 'w' as the second argument to open() to open the file in write mode. Append mode, on the other hand, will append text to the end of the existing file. You can think of this as appending to a list in a variable, rather than overwriting the variable altogether. Pass 'a' as the second argument to open() to open the file in append mode.\n",
    "\n",
    "If the filename passed to open() does not exist, both write and append mode will create a new, blank file. After reading or writing a file, call the close() method before opening the file again."
   ]
  },
  {
   "cell_type": "code",
   "execution_count": 7,
   "metadata": {},
   "outputs": [],
   "source": [
    "# creating the file (if it does not exist)\n",
    "helloFile = open('hello.txt', 'w')\n",
    "\n",
    "# writing to the file\n",
    "helloFile.write('Hello world!\\n')\n",
    "\n",
    "# closing the file\n",
    "helloFile.close()\n",
    "\n",
    "# append to the file\n",
    "helloFile = open('hello.txt', 'a')\n",
    "helloFile.write('Hello world is a useless program.')\n",
    "\n",
    "# close it again\n",
    "helloFile.close()"
   ]
  },
  {
   "cell_type": "code",
   "execution_count": 8,
   "metadata": {},
   "outputs": [
    {
     "name": "stdout",
     "output_type": "stream",
     "text": [
      "Hello world!\n",
      "Hello world is a useless program.\n"
     ]
    }
   ],
   "source": [
    "# open the file again in read mode\n",
    "helloFile = open('hello.txt')\n",
    "\n",
    "# read the content\n",
    "content = helloFile.read()\n",
    "\n",
    "# close the file\n",
    "helloFile.close()\n",
    "\n",
    "# display content\n",
    "print(content)"
   ]
  }
 ],
 "metadata": {
  "kernelspec": {
   "display_name": "Python 3",
   "language": "python",
   "name": "python3"
  },
  "language_info": {
   "codemirror_mode": {
    "name": "ipython",
    "version": 3
   },
   "file_extension": ".py",
   "mimetype": "text/x-python",
   "name": "python",
   "nbconvert_exporter": "python",
   "pygments_lexer": "ipython3",
   "version": "3.7.1"
  }
 },
 "nbformat": 4,
 "nbformat_minor": 2
}
