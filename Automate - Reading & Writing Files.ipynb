{
 "cells": [
  {
   "cell_type": "markdown",
   "metadata": {},
   "source": [
    "## Ch. 8 (2 of 2): Reading & Writing Files"
   ]
  },
  {
   "cell_type": "markdown",
   "metadata": {},
   "source": [
    "The functions covered in the next few sections will apply to **plaintext files**. Plaintext files contain only basic text characters and do not include font, size, or color information. Text files with the `.txt` extension or Python script files with the `.py` extension are examples of plaintext files. These can be opened with Windows’s Notepad or OS X’s TextEdit application. Your programs can easily read the contents of plaintext files and treat them as an ordinary string value.\n",
    "\n",
    "**Binary files** are all other file types, such as word processing documents, PDFs, images, spreadsheets, and executable programs. If you open a binary file in Notepad or TextEdit, it will look like scrambled nonsense.\n",
    "\n",
    "There are three steps to reading or writing files in Python.\n",
    "\n",
    "1. Call the open() function to return a File object.\n",
    "\n",
    "2. Call the read() or write() method on the File object.\n",
    "\n",
    "3. Close the file by calling the close() method on the File object."
   ]
  },
  {
   "cell_type": "markdown",
   "metadata": {},
   "source": [
    "## Open file: `open('path')`\n",
    "\n",
    "Pass it a string path - relative or absolute."
   ]
  },
  {
   "cell_type": "code",
   "execution_count": 6,
   "metadata": {},
   "outputs": [
    {
     "data": {
      "text/plain": [
       "<_io.TextIOWrapper name='C:\\\\Users\\\\Alexander\\\\Documents\\\\Programming\\\\Python\\\\100-days-of-code\\\\example.txt' mode='r' encoding='cp1252'>"
      ]
     },
     "execution_count": 6,
     "metadata": {},
     "output_type": "execute_result"
    }
   ],
   "source": [
    "# note the: mode='r' -- this means it's in read mode\n",
    "open('C:\\\\Users\\\\Alexander\\\\Documents\\\\Programming\\\\Python\\\\100-days-of-code\\\\example.txt')"
   ]
  },
  {
   "cell_type": "code",
   "execution_count": 10,
   "metadata": {},
   "outputs": [],
   "source": [
    "exampleFile = open('C:\\\\Users\\\\Alexander\\\\Documents\\\\Programming\\\\Python\\\\100-days-of-code\\\\example.txt')"
   ]
  },
  {
   "cell_type": "markdown",
   "metadata": {},
   "source": [
    "Read mode is the default mode for files you open in Python. But if you don’t want to rely on Python’s defaults, you can explicitly specify the mode by passing the string value 'r' as a second argument to open().\n",
    "\n",
    "`open('\\\\path\\\\to\\\\hello.txt', 'r')`\n",
    "\n",
    "and\n",
    "\n",
    "`open('\\\\path\\\\to\\\\hello.txt')` do the same thing."
   ]
  },
  {
   "cell_type": "markdown",
   "metadata": {},
   "source": [
    "## Read file content\n",
    "\n",
    "If you want to read the entire contents of a file as a string value, use the File object’s `read()` method."
   ]
  },
  {
   "cell_type": "code",
   "execution_count": 11,
   "metadata": {},
   "outputs": [
    {
     "data": {
      "text/plain": [
       "'Example file 1.'"
      ]
     },
     "execution_count": 11,
     "metadata": {},
     "output_type": "execute_result"
    }
   ],
   "source": [
    "# read entire content of the file as a string\n",
    "exampleContent = exampleFile.read()\n",
    "\n",
    "# display the content\n",
    "exampleContent"
   ]
  },
  {
   "cell_type": "markdown",
   "metadata": {},
   "source": [
    "## Close file: close('path')"
   ]
  },
  {
   "cell_type": "code",
   "execution_count": null,
   "metadata": {},
   "outputs": [],
   "source": []
  }
 ],
 "metadata": {
  "kernelspec": {
   "display_name": "Python 3",
   "language": "python",
   "name": "python3"
  },
  "language_info": {
   "codemirror_mode": {
    "name": "ipython",
    "version": 3
   },
   "file_extension": ".py",
   "mimetype": "text/x-python",
   "name": "python",
   "nbconvert_exporter": "python",
   "pygments_lexer": "ipython3",
   "version": "3.7.1"
  }
 },
 "nbformat": 4,
 "nbformat_minor": 2
}
