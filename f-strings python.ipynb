{
 "cells": [
  {
   "cell_type": "markdown",
   "metadata": {},
   "source": [
    "# f-strings (Python 3.6)"
   ]
  },
  {
   "cell_type": "markdown",
   "metadata": {},
   "source": [
    "#### The Old Way - `%`-formatting (not recommended)\n",
    "\n",
    "`%s` in a Python string acted as a format specifier."
   ]
  },
  {
   "cell_type": "code",
   "execution_count": 3,
   "metadata": {},
   "outputs": [
    {
     "data": {
      "text/plain": [
       "'Hello, Eric.'"
      ]
     },
     "execution_count": 3,
     "metadata": {},
     "output_type": "execute_result"
    }
   ],
   "source": [
    "name = \"Eric\"\n",
    "\"Hello, %s.\" % name\n",
    "'Hello, Eric.'"
   ]
  },
  {
   "cell_type": "markdown",
   "metadata": {},
   "source": [
    "To insert multiple variables, you needed a tuple of those variables. And as your strings got longer and you begin using more variables the code becomes less and less readable."
   ]
  },
  {
   "cell_type": "code",
   "execution_count": 4,
   "metadata": {},
   "outputs": [
    {
     "data": {
      "text/plain": [
       "'Hello, Eric. You are 74.'"
      ]
     },
     "execution_count": 4,
     "metadata": {},
     "output_type": "execute_result"
    }
   ],
   "source": [
    "name = \"Eric\"\n",
    "age = 74\n",
    "\"Hello, %s. You are %s.\" % (name, age)"
   ]
  },
  {
   "cell_type": "markdown",
   "metadata": {},
   "source": [
    "#### Then came the `str.format()`-formatting from python 2.6 (not recommended)\n",
    "\n",
    "In this version, `{}` replaced `%s`"
   ]
  },
  {
   "cell_type": "code",
   "execution_count": 6,
   "metadata": {},
   "outputs": [
    {
     "data": {
      "text/plain": [
       "'Hello, Eric. You are 74.'"
      ]
     },
     "execution_count": 6,
     "metadata": {},
     "output_type": "execute_result"
    }
   ],
   "source": [
    "\"Hello, {}. You are {}.\".format(name, age)"
   ]
  },
  {
   "cell_type": "markdown",
   "metadata": {},
   "source": [
    "Using `str.format()` you can reference variables in any order by placing digits inside the curly braces."
   ]
  },
  {
   "cell_type": "code",
   "execution_count": 8,
   "metadata": {},
   "outputs": [
    {
     "data": {
      "text/plain": [
       "'Hello, Eric. You are 74.'"
      ]
     },
     "execution_count": 8,
     "metadata": {},
     "output_type": "execute_result"
    }
   ],
   "source": [
    "\"Hello, {1}. You are {0}.\".format(age, name)"
   ]
  },
  {
   "cell_type": "markdown",
   "metadata": {},
   "source": [
    "But if you insert the variable names, you get the added perk of being able to pass objects and then reference parameters and methods in between the braces:"
   ]
  },
  {
   "cell_type": "code",
   "execution_count": 12,
   "metadata": {},
   "outputs": [
    {
     "data": {
      "text/plain": [
       "'Hello, Eric. You are 74.'"
      ]
     },
     "execution_count": 12,
     "metadata": {},
     "output_type": "execute_result"
    }
   ],
   "source": [
    "person = {'name': 'Eric', 'age': 74}\n",
    "\n",
    "\"Hello, {name}. You are {age}.\".format(name = person['name'], age = person['age'])"
   ]
  },
  {
   "cell_type": "markdown",
   "metadata": {},
   "source": [
    "You can also use ** to do this neat trick with dictionaries:"
   ]
  },
  {
   "cell_type": "code",
   "execution_count": 13,
   "metadata": {},
   "outputs": [
    {
     "data": {
      "text/plain": [
       "'Hello, Eric. You are 74.'"
      ]
     },
     "execution_count": 13,
     "metadata": {},
     "output_type": "execute_result"
    }
   ],
   "source": [
    "\"Hello, {name}. You are {age}.\".format(**person)"
   ]
  },
  {
   "cell_type": "markdown",
   "metadata": {},
   "source": [
    "But `str.format()` still gets complicated quickly."
   ]
  },
  {
   "cell_type": "code",
   "execution_count": 1,
   "metadata": {},
   "outputs": [
    {
     "name": "stdout",
     "output_type": "stream",
     "text": [
      "Hello, Eric Idle. You are 74. You are a comedian. You were a member of Monty Python.\n"
     ]
    }
   ],
   "source": [
    "first_name = \"Eric\"\n",
    "last_name = \"Idle\"\n",
    "age = 74\n",
    "profession = \"comedian\"\n",
    "affiliation = \"Monty Python\"\n",
    "\n",
    "\n",
    "print((\"Hello, {first_name} {last_name}. You are {age}. \" \n",
    "       + \"You are a {profession}. You were a member of {affiliation}.\") \\\n",
    ".format(first_name=first_name, last_name=last_name, age=age, \\\n",
    "        profession=profession, affiliation=affiliation))"
   ]
  },
  {
   "cell_type": "markdown",
   "metadata": {},
   "source": [
    "## f-strings save the day (Pep 498 in 2015, Python 3.6)"
   ]
  },
  {
   "cell_type": "code",
   "execution_count": 18,
   "metadata": {},
   "outputs": [
    {
     "data": {
      "text/plain": [
       "'Hello, Eric. You are 74'"
      ]
     },
     "execution_count": 18,
     "metadata": {},
     "output_type": "execute_result"
    }
   ],
   "source": [
    "name = \"Eric\"\n",
    "age = 74\n",
    "\n",
    "f'Hello, {name}. You are {age}'"
   ]
  },
  {
   "cell_type": "code",
   "execution_count": 19,
   "metadata": {},
   "outputs": [
    {
     "data": {
      "text/plain": [
       "'Hello, Eric. You are 74'"
      ]
     },
     "execution_count": 19,
     "metadata": {},
     "output_type": "execute_result"
    }
   ],
   "source": [
    "# capitalization doesn't change anything.\n",
    "F'Hello, {name}. You are {age}'"
   ]
  },
  {
   "cell_type": "markdown",
   "metadata": {},
   "source": [
    "Because f-strings are evaluated at runtime, **you can put any and all valid Python expressions in them.** This allows you to do some nifty things."
   ]
  },
  {
   "cell_type": "code",
   "execution_count": 21,
   "metadata": {},
   "outputs": [
    {
     "data": {
      "text/plain": [
       "'70'"
      ]
     },
     "execution_count": 21,
     "metadata": {},
     "output_type": "execute_result"
    }
   ],
   "source": [
    "f\"{2 * 35}\""
   ]
  },
  {
   "cell_type": "code",
   "execution_count": 26,
   "metadata": {},
   "outputs": [
    {
     "data": {
      "text/plain": [
       "'eric idle is funny.'"
      ]
     },
     "execution_count": 26,
     "metadata": {},
     "output_type": "execute_result"
    }
   ],
   "source": [
    "def to_lowercase(input):\n",
    "    return input.lower()\n",
    "\n",
    "name = \"Eric Idle\"\n",
    "f\"{to_lowercase(name)} is funny.\""
   ]
  },
  {
   "cell_type": "code",
   "execution_count": 27,
   "metadata": {},
   "outputs": [
    {
     "data": {
      "text/plain": [
       "'eric idle is funny.'"
      ]
     },
     "execution_count": 27,
     "metadata": {},
     "output_type": "execute_result"
    }
   ],
   "source": [
    "# You can also call methods directly.\n",
    "f\"{name.lower()} is funny.\""
   ]
  },
  {
   "cell_type": "markdown",
   "metadata": {},
   "source": [
    "According to **Automate the Boring Stuff: Appendix B**\n",
    "\n",
    "### Shebang Line\n",
    "\n",
    "The first line of all your Python programs should be a shebang line, which tells your computer that you want Python to execute this program. The shebang line begins with #!, but the rest depends on your operating system.\n",
    "\n",
    "* On Windows, the shebang line is `#! python3`.\n",
    "\n",
    "* On OS X, the shebang line is `#! /usr/bin/env python3`.\n",
    "\n",
    "* On Linux, the shebang line is `#! /usr/bin/python3`.\n",
    "\n",
    "You will be able to run Python scripts from IDLE without the shebang line, but the line is needed to run them from the command line."
   ]
  },
  {
   "cell_type": "markdown",
   "metadata": {},
   "source": [
    "### Running Python on Windows\n",
    "\n",
    "On Windows, the Python 3.4 interpreter is located at `C:\\Python34\\python.exe`. Alternatively, the convenient `py.exe` program will read the shebang line at the top of the `.py` file’s source code and run the appropriate version of Python for that script. The `py.exe` program will make sure to run the Python program with the correct version of Python if multiple versions are installed on your computer. Use the `-3` command line argument to make `py.exe` run the latest Python 3 version installed. Use the `cd` command to change to the directory (that is, folder) that contains your Python script file. Then use the `py` program to run your script:\n",
    "\n",
    "`C:\\Users\\Al>cd c:\\path\\to\\folder\\with\\your\\script`\n",
    "\n",
    "`C:\\folderwithyourscript>py -3 yourscript.py`\n",
    "\n",
    "To make it convenient to run your Python program, create a `.bat` batch file for running the Python program with `py.exe`. To make a batch file, make a new text file containing a single line like the following without the `< >`:\n",
    "\n",
    "**< @py.exe C:\\path\\to\\your\\pythonScript.py %* >**\n",
    "\n",
    "Replace this path with the absolute path to your own program, and save this file with a `.bat` file extension (for example, `pythonScript.bat`). This batch file will keep you from having to type the full absolute path for the Python program every time you want to run it. \n",
    "\n",
    "I recommend you place all your batch and `.py` files in a single folder, such as `C:\\MyPythonScripts` or `C:\\Users\\YourName\\PythonScripts`\n",
    "\n",
    "The `C:\\MyPythonScripts` folder should be added to the System PATH on Windows so that you can run the batch files in it from the Run dialog. To do this, modify the PATH environment variable.\n",
    "\n",
    "From System variables, select the PATH variable and click Edit. In the Value text field, append a semicolon, type `C:\\MyPythonScripts`, and then click OK. Now you can run any Python script in the `C:\\MyPythonScripts` folder by simply pressing `WIN-R` and entering the script’s name. Running `pythonScript`, for instance, will run `pythonScript.bat`, which in turn will save you from having to run the whole command py.exe `C:\\ MyPythonScripts\\pythonScript.py` from the Run dialog."
   ]
  }
 ],
 "metadata": {
  "kernelspec": {
   "display_name": "Python 3",
   "language": "python",
   "name": "python3"
  },
  "language_info": {
   "codemirror_mode": {
    "name": "ipython",
    "version": 3
   },
   "file_extension": ".py",
   "mimetype": "text/x-python",
   "name": "python",
   "nbconvert_exporter": "python",
   "pygments_lexer": "ipython3",
   "version": "3.7.1"
  }
 },
 "nbformat": 4,
 "nbformat_minor": 2
}
