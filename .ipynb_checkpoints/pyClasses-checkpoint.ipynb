{
 "cells": [
  {
   "cell_type": "markdown",
   "metadata": {},
   "source": [
    "## Importing\n",
    "\n",
    "When importing a module from the standard libarary along with a non-standard-library module, place the import statement for the standard library modules first, then **one blank line** separating the group of 3rd party modules."
   ]
  },
  {
   "cell_type": "markdown",
   "metadata": {},
   "source": [
    "# Classes\n",
    "Classes represent real-world objects or situations (general behavior or characteristics). Classes define the general behavior that a whole category of objects can have. When you create objects from a class, each object is automatically equipped with the general behavior. Making an object from a class is called **instantiation** so you're working with an **instance** of a class. By connvention, capitalized names refer to classes in Python.\n",
    "\n",
    "**Think of class as a set of instructuions for how to make an instance.**\n",
    "\n",
    "For exaple, you can create a `class Dog` that will just represent the traits of any dog in general. Then you can describe characteristics of particular dogs to create instances of specific dogs.\n",
    "\n",
    "Each function that's part of a class is called a `method`. The `__init__()` method is a special method Python runs automatically whenever we create a new instance based on the class.\n",
    "\n",
    "## Create a class\n",
    "\n",
    "Class names should be written in `CamelCaps` where you capitalize the first letter of each word in the name and don't use uderscores.\n",
    "\n",
    "On the other hand, instance and module names should be written in `lower_case_with_underscores`.\n",
    "\n",
    "Every class should have a `\"\"\"docstring explains your class or function\"\"\"`. Each module should also have a docstring explaining what the classes in the module can be used for.\n",
    "\n",
    "Within a class you use **one blank line** between methods. In a module, use **two blank lines** between each class."
   ]
  },
  {
   "cell_type": "code",
   "execution_count": 4,
   "metadata": {},
   "outputs": [],
   "source": [
    "class Dog():\n",
    "    \"\"\"A simple dog model.\"\"\"\n",
    "    \n",
    "    def __init__(self, name, age):\n",
    "        \"\"\"Initialize name and age attributes\"\"\"\n",
    "        self.name = name\n",
    "        self.age = age\n",
    "        \n",
    "    def sit(self):\n",
    "        \"\"\"Simulate a dog sitting.\"\"\"\n",
    "        print(self.name.title() + \" is sitting.\")\n",
    "    \n",
    "    def roll_over(self):\n",
    "        \"\"\"Simulate a dog rolling over.\"\"\"\n",
    "        print(self.name.title() + \" rolled over.\")"
   ]
  },
  {
   "cell_type": "markdown",
   "metadata": {},
   "source": [
    "`self` parameter is required in the method definition and it MUST come **before** other parameters because when Python calls `__init__()` later to create an instance of Dog, the method will automatically pass the self argument. Every method call associated with a class automatically passes `self` which is a reference to the instance itself.\n",
    "\n",
    "## Attributes\n",
    "\n",
    "**Important!** The two variables `name` and `age` at lines 6 & 7 both have the prefix `self`. Any variable prefixed with `self` is available to every method in the class, and we'll also be able to access these variables through any instance created from the class. Variables that are accessible through instances like this are called **attributes**.\n",
    "\n",
    "## Create an Instance of a Class"
   ]
  },
  {
   "cell_type": "code",
   "execution_count": 5,
   "metadata": {},
   "outputs": [
    {
     "name": "stdout",
     "output_type": "stream",
     "text": [
      "My dog's name is Wharf.\n",
      "My dog is 3 years old.\n"
     ]
    }
   ],
   "source": [
    "my_dog = Dog('Wharf', 3)\n",
    "\n",
    "print(\"My dog's name is \" + my_dog.name.title() + \".\")\n",
    "print(\"My dog is \" + str(my_dog.age) + \" years old.\")"
   ]
  },
  {
   "cell_type": "markdown",
   "metadata": {},
   "source": [
    "### Use dot notation to access attributes of an instance\n",
    "\n",
    "To access the attributes of an instance you use dot notation. Python looks at the instance `my_dog` and then finds the attribute `name` associated with my_dog. This is the same attribute referred to as `self.name` in the class `Dog`."
   ]
  },
  {
   "cell_type": "code",
   "execution_count": 12,
   "metadata": {},
   "outputs": [
    {
     "data": {
      "text/plain": [
       "'Wharf'"
      ]
     },
     "execution_count": 12,
     "metadata": {},
     "output_type": "execute_result"
    }
   ],
   "source": [
    "# accessing the name attribute of the instance my_dog\n",
    "my_dog.name"
   ]
  },
  {
   "cell_type": "code",
   "execution_count": 11,
   "metadata": {},
   "outputs": [
    {
     "data": {
      "text/plain": [
       "3"
      ]
     },
     "execution_count": 11,
     "metadata": {},
     "output_type": "execute_result"
    }
   ],
   "source": [
    "# accesing the age attribute of the instance my_dog\n",
    "my_dog.age"
   ]
  },
  {
   "cell_type": "markdown",
   "metadata": {},
   "source": [
    "## Calling Methods\n",
    "\n",
    "Now that we've created the instance `my_dog` from the class `Dog`, we can use dot notation to call any method defined in `Dog`. To call a method, give the name of the instance (in this case `my_dog`) and the method you want to call, separated by a dot `.`\n",
    "\n",
    "When Python reads `my_dog.sit()`, it looks for the method `sit()` in the class `Dog` and rus that code."
   ]
  },
  {
   "cell_type": "code",
   "execution_count": 7,
   "metadata": {},
   "outputs": [
    {
     "name": "stdout",
     "output_type": "stream",
     "text": [
      "Wharf is sitting.\n",
      "Wharf rolled over.\n"
     ]
    }
   ],
   "source": [
    "my_dog = Dog('Wharf', 3)\n",
    "\n",
    "my_dog.sit()\n",
    "my_dog.roll_over()"
   ]
  },
  {
   "cell_type": "markdown",
   "metadata": {},
   "source": [
    "## Set a Default Value for an Attribute\n",
    "\n",
    "Every attribute in a class needs an initial value even if that value is `0` or an empty string `''`. Sometimes it makes sense to set a default value and specify this initial value in the body of the `__init__()` method. If you do this for an attribute, you do not have to include a parameter for that attribute."
   ]
  },
  {
   "cell_type": "code",
   "execution_count": 19,
   "metadata": {},
   "outputs": [
    {
     "name": "stdout",
     "output_type": "stream",
     "text": [
      "2016 Auidi A4\n"
     ]
    }
   ],
   "source": [
    "# create the Car class\n",
    "class Car():\n",
    "    \"\"\"Represent a car.\"\"\"\n",
    "    \n",
    "    def __init__(self, make, model, year):\n",
    "        \"\"\"Initialize attributes that describe a car.\"\"\"\n",
    "        self.make = make\n",
    "        self.model = model\n",
    "        self.year = year\n",
    "        \n",
    "    def get_descriptive_name(self):\n",
    "        \"\"\"Retrun a neatly formatted descriptive name.\"\"\"\n",
    "        long_name = str(self.year) + ' ' + self.make + ' ' + self.model\n",
    "        return long_name.title()\n",
    "    \n",
    "my_car = Car('auidi', 'a4', 2016)\n",
    "print(my_car.get_descriptive_name())"
   ]
  },
  {
   "cell_type": "markdown",
   "metadata": {},
   "source": [
    "Let's add an attribute that changes over time. We'll add an attribute that stores the car's mileage. We'll add an attribute called `odometer_reading` that always starts with a value `0`. We'll aslo add a method `read_odometer()` that helps us read each car's odometer.\n",
    "\n",
    "This time, when Python calls the `__init__()` method to create a new instance, it stores make, model, and year values as attributes, but then Python creates a new attribute called `odometer_reading` and sets its initial value to `0`. Not many cars are sold with exactly 0 miles on the odometer so we need a way to change the value of this attribute."
   ]
  },
  {
   "cell_type": "code",
   "execution_count": 20,
   "metadata": {},
   "outputs": [
    {
     "name": "stdout",
     "output_type": "stream",
     "text": [
      "2016 Auidi A4\n",
      "This car has 0 miles on it.\n"
     ]
    }
   ],
   "source": [
    "# settting a default value for an attribute\n",
    "# inlcluding attribute: odometer_reading\n",
    "# including method: read_odometer()\n",
    "\n",
    "class Car():\n",
    "    \"\"\"Represent a car.\"\"\"\n",
    "    \n",
    "    def __init__(self, make, model, year):\n",
    "        \"\"\"Initialize attributes that describe a car.\"\"\"\n",
    "        self.make = make\n",
    "        self.model = model\n",
    "        self.year = year\n",
    "        self.odometer_reading = 0\n",
    "        \n",
    "    def get_descriptive_name(self):\n",
    "        \"\"\"Retrun a neatly formatted descriptive name.\"\"\"\n",
    "        long_name = str(self.year) + ' ' + self.make + ' ' + self.model\n",
    "        return long_name.title()\n",
    "    \n",
    "    def read_odometer(self):\n",
    "        \"\"\"Print the car's mileage\"\"\"\n",
    "        print(\"This car has \" + str(self.odometer_reading) + \" miles on it.\")\n",
    "    \n",
    "my_car = Car('auidi', 'a4', 2016)\n",
    "print(my_car.get_descriptive_name())\n",
    "my_car.read_odometer()"
   ]
  },
  {
   "cell_type": "markdown",
   "metadata": {},
   "source": [
    "## Modifying Attribute Values\n",
    "\n",
    "You can change an attribute's value in three ways:\n",
    "1. directly through an instance\n",
    "2. set the value through a method\n",
    "3. or increment the value through a method\n",
    "\n",
    "### modify an attribute directly"
   ]
  },
  {
   "cell_type": "code",
   "execution_count": 21,
   "metadata": {},
   "outputs": [
    {
     "name": "stdout",
     "output_type": "stream",
     "text": [
      "This car has 23 miles on it.\n"
     ]
    }
   ],
   "source": [
    "# modify attribute directly\n",
    "my_car.odometer_reading = 23\n",
    "my_car.read_odometer()"
   ]
  },
  {
   "cell_type": "code",
   "execution_count": null,
   "metadata": {},
   "outputs": [],
   "source": []
  }
 ],
 "metadata": {
  "kernelspec": {
   "display_name": "Python 3",
   "language": "python",
   "name": "python3"
  },
  "language_info": {
   "codemirror_mode": {
    "name": "ipython",
    "version": 3
   },
   "file_extension": ".py",
   "mimetype": "text/x-python",
   "name": "python",
   "nbconvert_exporter": "python",
   "pygments_lexer": "ipython3",
   "version": "3.7.1"
  }
 },
 "nbformat": 4,
 "nbformat_minor": 2
}
