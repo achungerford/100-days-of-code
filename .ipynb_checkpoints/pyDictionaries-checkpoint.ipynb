{
 "cells": [
  {
   "cell_type": "markdown",
   "metadata": {},
   "source": [
    "# Dictionaries\n",
    "\n",
    "### key-value pairs\n",
    "### `dict = {'key': 'value'}`\n",
    "### `dict = {'key': 1}`\n",
    "\n",
    "You can nest dictionaries in lists. You can nest lists in dictionaries. You can nest dictionaries in other dictionaries.\n",
    "\n",
    "You can have an unlimited number of key-value pairs in a dictionary.\n",
    "\n",
    "Remember, the order of the key-value pairs may not match the order in which you add them. Python doesn't care about the order in which you store each key-value pair; it only cares about the connection between each key and its value."
   ]
  },
  {
   "cell_type": "code",
   "execution_count": 54,
   "metadata": {},
   "outputs": [
    {
     "name": "stdout",
     "output_type": "stream",
     "text": [
      "POTUS\n",
      "20\n"
     ]
    }
   ],
   "source": [
    "obama_wh = {'Barack': 'POTUS', 'Michele': 'First Lady', 'Malia': 20, 'Sasha': 18}\n",
    "\n",
    "print(obama_wh['Barack'])\n",
    "print(obama_wh['Malia'])"
   ]
  },
  {
   "cell_type": "markdown",
   "metadata": {},
   "source": [
    "### adding new key-value pairs"
   ]
  },
  {
   "cell_type": "code",
   "execution_count": 55,
   "metadata": {},
   "outputs": [
    {
     "name": "stdout",
     "output_type": "stream",
     "text": [
      "{'Barack': 'POTUS', 'Michele': 'First Lady', 'Malia': 20, 'Sasha': 18, 'HRC': 'Secretary of State', 'president': 44}\n"
     ]
    }
   ],
   "source": [
    "# dictName['key'] = value\n",
    "\n",
    "obama_wh['HRC'] = 'Secretary of State'\n",
    "obama_wh['president'] = 44\n",
    "\n",
    "print(obama_wh)"
   ]
  },
  {
   "cell_type": "markdown",
   "metadata": {},
   "source": [
    "Its important point to note that dictionaries don't necessarily remain in order (like lists). It could print key-value pairs in any order"
   ]
  },
  {
   "cell_type": "code",
   "execution_count": 56,
   "metadata": {},
   "outputs": [
    {
     "name": "stdout",
     "output_type": "stream",
     "text": [
      "{'Barack': 'POTUS', 'Michele': 'First Lady', 'Malia': 20, 'Sasha': 18, 'HRC': 'Secretary of State', 'president': 44}\n"
     ]
    }
   ],
   "source": [
    "print(obama_wh)"
   ]
  },
  {
   "cell_type": "code",
   "execution_count": 57,
   "metadata": {},
   "outputs": [
    {
     "data": {
      "text/plain": [
       "{'Barack': 'POTUS',\n",
       " 'Michele': 'First Lady',\n",
       " 'Malia': 20,\n",
       " 'Sasha': 18,\n",
       " 'HRC': 'Secretary of State',\n",
       " 'president': 44}"
      ]
     },
     "execution_count": 57,
     "metadata": {},
     "output_type": "execute_result"
    }
   ],
   "source": [
    "obama_wh"
   ]
  },
  {
   "cell_type": "markdown",
   "metadata": {},
   "source": [
    "### starting with an empty dictionary"
   ]
  },
  {
   "cell_type": "code",
   "execution_count": 58,
   "metadata": {},
   "outputs": [
    {
     "data": {
      "text/plain": [
       "{'color': 'green', 'points': 5}"
      ]
     },
     "execution_count": 58,
     "metadata": {},
     "output_type": "execute_result"
    }
   ],
   "source": [
    "alien_0 = {}\n",
    "\n",
    "alien_0['color'] = 'green'\n",
    "alien_0['points'] = 5\n",
    "\n",
    "alien_0"
   ]
  },
  {
   "cell_type": "markdown",
   "metadata": {},
   "source": [
    "### modifying values in a dictionary"
   ]
  },
  {
   "cell_type": "code",
   "execution_count": 59,
   "metadata": {},
   "outputs": [
    {
     "data": {
      "text/plain": [
       "{'color': 'green', 'points': 5}"
      ]
     },
     "execution_count": 59,
     "metadata": {},
     "output_type": "execute_result"
    }
   ],
   "source": [
    "alien_0"
   ]
  },
  {
   "cell_type": "code",
   "execution_count": 60,
   "metadata": {},
   "outputs": [
    {
     "data": {
      "text/plain": [
       "{'color': 'yellow', 'points': 5}"
      ]
     },
     "execution_count": 60,
     "metadata": {},
     "output_type": "execute_result"
    }
   ],
   "source": [
    "alien_0['color'] = 'yellow'\n",
    "\n",
    "alien_0"
   ]
  },
  {
   "cell_type": "code",
   "execution_count": 61,
   "metadata": {},
   "outputs": [
    {
     "name": "stdout",
     "output_type": "stream",
     "text": [
      "{'color': 'yellow', 'points': 5, 'x_position': 0, 'y_position': 25}\n"
     ]
    }
   ],
   "source": [
    "alien_0['x_position'] = 0\n",
    "alien_0['y_position'] = 25\n",
    "\n",
    "print(alien_0)"
   ]
  },
  {
   "cell_type": "code",
   "execution_count": 62,
   "metadata": {},
   "outputs": [
    {
     "name": "stdout",
     "output_type": "stream",
     "text": [
      "Original x-position: 0\n",
      "New x-position: 2\n"
     ]
    }
   ],
   "source": [
    "# alien game\n",
    "\n",
    "alien_0 = {'x_position': 0, 'y_position': 25, 'speed': 'medium'}\n",
    "print(\"Original x-position: \" + str(alien_0['x_position']))\n",
    "\n",
    "# Move the alien to the right.\n",
    "# Determine how far basedon its current speed.\n",
    "\n",
    "if alien_0['speed'] == 'slow':\n",
    "    x_increment = 1\n",
    "elif alien_0['speed'] == 'medium':\n",
    "    x_increment = 2\n",
    "else:\n",
    "    # you can comment in the middle of these statements\n",
    "    x_increment = 3\n",
    "\n",
    "# New position = old + increment. Also convert the integer to a string.\n",
    "alien_0['x_position'] = alien_0['x_position'] + x_increment\n",
    "\n",
    "# describe the new position\n",
    "print(\"New x-position: \" + str(alien_0['x_position']))"
   ]
  },
  {
   "cell_type": "markdown",
   "metadata": {},
   "source": [
    "### Removing Key-Value Pairs:\n",
    "\n",
    "`del` just needs `dictName['key']`"
   ]
  },
  {
   "cell_type": "code",
   "execution_count": 63,
   "metadata": {},
   "outputs": [
    {
     "name": "stdout",
     "output_type": "stream",
     "text": [
      "{'color': 'green', 'points': 5}\n",
      "{'color': 'green'}\n"
     ]
    }
   ],
   "source": [
    "alien_0 = {'color': 'green', 'points': 5}\n",
    "print(alien_0)\n",
    "\n",
    "del alien_0['points']\n",
    "print(alien_0)"
   ]
  },
  {
   "cell_type": "markdown",
   "metadata": {},
   "source": [
    "### Looping through a Dictionary"
   ]
  },
  {
   "cell_type": "markdown",
   "metadata": {},
   "source": [
    "#### Loop through all key:value pairs"
   ]
  },
  {
   "cell_type": "code",
   "execution_count": 64,
   "metadata": {},
   "outputs": [],
   "source": [
    "user_0 = {\n",
    "    'username': 'bsmith',\n",
    "    'first': 'brad',\n",
    "    'last': 'smith'\n",
    "}"
   ]
  },
  {
   "cell_type": "markdown",
   "metadata": {},
   "source": [
    "The method `.items()` only works when value is the same type"
   ]
  },
  {
   "cell_type": "code",
   "execution_count": 65,
   "metadata": {},
   "outputs": [
    {
     "name": "stdout",
     "output_type": "stream",
     "text": [
      "\n",
      "Key: username\n",
      "Value: bsmith\n",
      "\n",
      "Key: first\n",
      "Value: brad\n",
      "\n",
      "Key: last\n",
      "Value: smith\n"
     ]
    }
   ],
   "source": [
    "# want to see everything stored in this user's dictionary?\n",
    "\n",
    "for key, value in user_0.items():\n",
    "    print(\"\\nKey: \" + key)\n",
    "    print(\"Value: \" + value)"
   ]
  },
  {
   "cell_type": "code",
   "execution_count": 66,
   "metadata": {},
   "outputs": [
    {
     "name": "stdout",
     "output_type": "stream",
     "text": [
      "\n",
      "Key: username\n",
      "Value: bsmith\n",
      "\n",
      "Key: first\n",
      "Value: brad\n",
      "\n",
      "Key: last\n",
      "Value: smith\n"
     ]
    }
   ],
   "source": [
    "# it doesn't matter what you name the temp variables, but you must use\n",
    "# those names in throughout the entire loop\n",
    "\n",
    "for cup, cake in user_0.items():\n",
    "    print(\"\\nKey: \" + cup)\n",
    "    print(\"Value: \" + cake)"
   ]
  },
  {
   "cell_type": "code",
   "execution_count": 67,
   "metadata": {},
   "outputs": [
    {
     "data": {
      "text/plain": [
       "{'john': 'python',\n",
       " 'paul': 'c',\n",
       " 'peorge': 'java',\n",
       " 'ringo': 'ruby',\n",
       " 'beatles': 'python'}"
      ]
     },
     "execution_count": 67,
     "metadata": {},
     "output_type": "execute_result"
    }
   ],
   "source": [
    "favorite_languages = {\n",
    "    'john': 'python',\n",
    "    'paul': 'c',\n",
    "    'peorge': 'java',\n",
    "    'ringo': 'ruby',\n",
    "    'beatles': 'python'\n",
    "}\n",
    "\n",
    "favorite_languages"
   ]
  },
  {
   "cell_type": "code",
   "execution_count": 68,
   "metadata": {},
   "outputs": [
    {
     "name": "stdout",
     "output_type": "stream",
     "text": [
      "John's favorite language is Python\n",
      "Paul's favorite language is C\n",
      "Peorge's favorite language is Java\n",
      "Ringo's favorite language is Ruby\n",
      "Beatles's favorite language is Python\n"
     ]
    }
   ],
   "source": [
    "for name, language in favorite_languages.items():\n",
    "    print(name.title() +\n",
    "          \"'s favorite language is \" +\n",
    "          language.title())"
   ]
  },
  {
   "cell_type": "markdown",
   "metadata": {},
   "source": [
    "#### Loop through only keys"
   ]
  },
  {
   "cell_type": "markdown",
   "metadata": {},
   "source": [
    "The `.keys()` method is useful when you don't need to work with the values."
   ]
  },
  {
   "cell_type": "code",
   "execution_count": 69,
   "metadata": {},
   "outputs": [
    {
     "name": "stdout",
     "output_type": "stream",
     "text": [
      "John\n",
      "Paul\n",
      "Peorge\n",
      "Ringo\n",
      "Beatles\n"
     ]
    }
   ],
   "source": [
    "for name in favorite_languages.keys():\n",
    "    print(name.title())"
   ]
  },
  {
   "cell_type": "markdown",
   "metadata": {},
   "source": [
    "Looping through keys is the default behavior when looping through a dictionary. So the code above is equivalent to"
   ]
  },
  {
   "cell_type": "code",
   "execution_count": 70,
   "metadata": {},
   "outputs": [
    {
     "name": "stdout",
     "output_type": "stream",
     "text": [
      "John\n",
      "Paul\n",
      "Peorge\n",
      "Ringo\n",
      "Beatles\n"
     ]
    }
   ],
   "source": [
    "for name in favorite_languages:\n",
    "    print(name.title())"
   ]
  },
  {
   "cell_type": "markdown",
   "metadata": {},
   "source": [
    "#### Loop through only values\n",
    "\n",
    "The `.values()` method will return values without the keys."
   ]
  },
  {
   "cell_type": "code",
   "execution_count": 71,
   "metadata": {},
   "outputs": [
    {
     "name": "stdout",
     "output_type": "stream",
     "text": [
      "The following languages were mentioned: \n",
      "Python\n",
      "C\n",
      "Java\n",
      "Ruby\n",
      "Python\n"
     ]
    }
   ],
   "source": [
    "favorite_languages = {\n",
    "    'john': 'python',\n",
    "    'paul': 'c',\n",
    "    'george': 'java',\n",
    "    'ringo': 'ruby',\n",
    "    'beatles': 'python'\n",
    "}\n",
    "\n",
    "print(\"The following languages were mentioned: \")\n",
    "for language in favorite_languages.values():\n",
    "    print(language.title())"
   ]
  },
  {
   "cell_type": "markdown",
   "metadata": {},
   "source": [
    "Wrap `set()` around a dictionary to exclude repeats and only check for unique values. It's a list without repeats."
   ]
  },
  {
   "cell_type": "code",
   "execution_count": 72,
   "metadata": {},
   "outputs": [
    {
     "name": "stdout",
     "output_type": "stream",
     "text": [
      "The following languages were mentioned: \n",
      "C\n",
      "Python\n",
      "Ruby\n",
      "Java\n"
     ]
    }
   ],
   "source": [
    "favorite_languages = {\n",
    "    'john': 'python',\n",
    "    'paul': 'c',\n",
    "    'george': 'java',\n",
    "    'ringo': 'ruby',\n",
    "    'beatles': 'python'\n",
    "}\n",
    "\n",
    "# no repetition -- use a set\n",
    "# a set is a list with no repeats, only unique values\n",
    "\n",
    "print(\"The following languages were mentioned: \")\n",
    "for language in set(favorite_languages.values()):\n",
    "    print(language.title())"
   ]
  },
  {
   "cell_type": "markdown",
   "metadata": {},
   "source": [
    "### Nesting Dictionaries in Lists - a list of dictionaries"
   ]
  },
  {
   "cell_type": "code",
   "execution_count": 73,
   "metadata": {},
   "outputs": [
    {
     "name": "stdout",
     "output_type": "stream",
     "text": [
      "{'color': 'green', 'points': 5}\n",
      "{'color': 'yellow', 'points': 10}\n",
      "{'color': 'red', 'points': 15}\n"
     ]
    }
   ],
   "source": [
    "alien_0 = {'color': 'green', 'points': 5}\n",
    "alien_1 = {'color': 'yellow', 'points': 10}\n",
    "alien_2 = {'color': 'red', 'points': 15}\n",
    "\n",
    "aliens = [alien_0, alien_1, alien_2]\n",
    "\n",
    "for alien in aliens:\n",
    "    print(alien)"
   ]
  },
  {
   "cell_type": "markdown",
   "metadata": {},
   "source": [
    "Generate the aliens automatically with a loop."
   ]
  },
  {
   "cell_type": "code",
   "execution_count": 74,
   "metadata": {},
   "outputs": [
    {
     "name": "stdout",
     "output_type": "stream",
     "text": [
      "{'color': 'green', 'points': 5, 'speed': 'slow'}\n",
      "{'color': 'green', 'points': 5, 'speed': 'slow'}\n",
      "{'color': 'green', 'points': 5, 'speed': 'slow'}\n",
      "{'color': 'green', 'points': 5, 'speed': 'slow'}\n",
      "{'color': 'green', 'points': 5, 'speed': 'slow'}\n",
      "...\n",
      "Total number of aliens: 30\n"
     ]
    }
   ],
   "source": [
    "# start with empty list\n",
    "aliens = []\n",
    "\n",
    "# make 30 green aliens\n",
    "for alien_number in range(30):\n",
    "    # what each alien will look like\n",
    "    new_alien = {'color': 'green', 'points': 5, 'speed': 'slow'}\n",
    "    # placing each new alien in the list\n",
    "    aliens.append(new_alien)\n",
    "\n",
    "# show the first 5 aliens\n",
    "for alien in aliens[:5]:\n",
    "    print(alien)\n",
    "print('...')\n",
    "\n",
    "# show how many aliens were created\n",
    "print(\"Total number of aliens: \" + str(len(aliens)))"
   ]
  },
  {
   "cell_type": "markdown",
   "metadata": {},
   "source": [
    "Change the first 3 aliens to yellow, medium speed, 10 points."
   ]
  },
  {
   "cell_type": "code",
   "execution_count": 75,
   "metadata": {},
   "outputs": [
    {
     "name": "stdout",
     "output_type": "stream",
     "text": [
      "{'color': 'yellow', 'points': 10, 'speed': 'medium'}\n",
      "{'color': 'yellow', 'points': 10, 'speed': 'medium'}\n",
      "{'color': 'yellow', 'points': 10, 'speed': 'medium'}\n",
      "{'color': 'green', 'points': 5, 'speed': 'slow'}\n",
      "{'color': 'green', 'points': 5, 'speed': 'slow'}\n",
      "...\n"
     ]
    }
   ],
   "source": [
    "# start with empty list\n",
    "aliens = []\n",
    "\n",
    "# create 30 green aliens\n",
    "for alien_number in range(30):\n",
    "    # what each alien will look like\n",
    "    new_alien = {'color': 'green', 'points': 5, 'speed': 'slow'}\n",
    "    # placing each new alien in the list\n",
    "    aliens.append(new_alien)\n",
    "\n",
    "# change first 3 aliens to yellow, medium, 10 points\n",
    "for alien in aliens[0:3]:\n",
    "    if alien['color'] == 'green':\n",
    "        alien['color'] = 'yellow'\n",
    "        alien['speed'] = 'medium'\n",
    "        alien['points'] = 10\n",
    "\n",
    "# show the first 5 aliens\n",
    "for alien in aliens[0:5]:\n",
    "    print(alien)\n",
    "print('...')"
   ]
  },
  {
   "cell_type": "markdown",
   "metadata": {},
   "source": [
    "### Nesting a List inside a Dictionary\n",
    "\n",
    "Useful when you want more than one value to be associated with a single key."
   ]
  },
  {
   "cell_type": "code",
   "execution_count": 78,
   "metadata": {},
   "outputs": [
    {
     "name": "stdout",
     "output_type": "stream",
     "text": [
      "You ordered a thick-crust pizza with:\n",
      "\tmushrooms\n",
      "\textra cheese\n"
     ]
    }
   ],
   "source": [
    "# create a pizza\n",
    "\n",
    "pizza = {\n",
    "    'crust': 'thick',\n",
    "    'toppings': ['mushrooms', 'extra cheese']\n",
    "}\n",
    "\n",
    "# describe order\n",
    "print('You ordered a ' + pizza['crust'] + '-crust pizza with:')\n",
    "\n",
    "for topping in pizza['toppings']:\n",
    "    print('\\t' + topping)"
   ]
  },
  {
   "cell_type": "markdown",
   "metadata": {},
   "source": [
    "### Nesting a Dictionary inside a Dictionary\n",
    "\n",
    "Be careful, this can complicate your code quickly."
   ]
  },
  {
   "cell_type": "code",
   "execution_count": 85,
   "metadata": {},
   "outputs": [
    {
     "name": "stdout",
     "output_type": "stream",
     "text": [
      "Username: bsmith\n",
      "\tFull name: Brad Smith\n",
      "\tLocatoin: UCSB\n",
      "Username: jdoe\n",
      "\tFull name: Jane Doe\n",
      "\tLocatoin: UCLA\n"
     ]
    }
   ],
   "source": [
    "users = {\n",
    "    'bsmith':{\n",
    "        'first': 'brad',\n",
    "        'last': 'smith',\n",
    "        'location': 'UCSB'\n",
    "    },\n",
    "    'jdoe': {\n",
    "        'first': 'jane',\n",
    "        'last': 'doe',\n",
    "        'location': 'UCLA'\n",
    "    }\n",
    "}\n",
    "\n",
    "\n",
    "# for {key, value} in dictionary.items()\n",
    "for username, user_info in users.items():\n",
    "    print('Username: ' + username)\n",
    "    full_name = user_info['first'] + ' ' + user_info['last']\n",
    "    location = user_info['location']\n",
    "\n",
    "    print(\"\\tFull name: \" + full_name.title())\n",
    "    print('\\tLocatoin: '+ location.upper()) "
   ]
  }
 ],
 "metadata": {
  "kernelspec": {
   "display_name": "Python 3",
   "language": "python",
   "name": "python3"
  },
  "language_info": {
   "codemirror_mode": {
    "name": "ipython",
    "version": 3
   },
   "file_extension": ".py",
   "mimetype": "text/x-python",
   "name": "python",
   "nbconvert_exporter": "python",
   "pygments_lexer": "ipython3",
   "version": "3.7.1"
  }
 },
 "nbformat": 4,
 "nbformat_minor": 2
}
