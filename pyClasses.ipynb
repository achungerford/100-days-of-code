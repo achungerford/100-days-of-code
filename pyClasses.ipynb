{
 "cells": [
  {
   "cell_type": "markdown",
   "metadata": {},
   "source": [
    "## Classes\n",
    "Classes represent real-world objects or situations (general behavior or characteristics). Classes define the general behavior that a whole category of objects can have. When you create objects from a class, each object is automatically equipped with the general behavior. Making an object from a class is called **instantiation** so you're working with an **instance** of a class. By connvention, capitalized names refer to classes in Python.\n",
    "\n",
    "For exaple, you can create a `class Dog` that will just represent the traits of any dog in general. Then you can describe characteristics of particular dogs to create instances of specific dogs.\n",
    "\n",
    "Each function that's part of a class is called a `method`. The `__init__()` method is a special method Python runs automatically whenever we create a new instance based on the class."
   ]
  },
  {
   "cell_type": "code",
   "execution_count": 1,
   "metadata": {},
   "outputs": [],
   "source": [
    "class Dog():\n",
    "    \"\"\"A simple dog model.\"\"\"\n",
    "    \n",
    "    def __init__(self, name, age):\n",
    "        \"\"\"Initialize name and age attributes\"\"\"\n",
    "        self.name = name\n",
    "        self.age = age\n",
    "        \n",
    "    def sit(self):\n",
    "        \"\"\"Simulate a dog sitting.\"\"\"\n",
    "        print(self.name.title() + \" is sitting.\")\n",
    "    \n",
    "    def roll_over(self):\n",
    "        \"\"\"Simulate a dog rolling over.\"\"\"\n",
    "        print(self.name.title() + \" rolled over.\")"
   ]
  },
  {
   "cell_type": "markdown",
   "metadata": {},
   "source": [
    "`self` parameter is required in the method definition and it MUST come **before** other parameters because when Python calls `__init__()` later to create an instance of Dog, the method will automatically pass the self argument. Every method call associated with a class automatically passes `self` which is a reference to the instance itself."
   ]
  },
  {
   "cell_type": "code",
   "execution_count": null,
   "metadata": {},
   "outputs": [],
   "source": []
  }
 ],
 "metadata": {
  "kernelspec": {
   "display_name": "Python 3",
   "language": "python",
   "name": "python3"
  },
  "language_info": {
   "codemirror_mode": {
    "name": "ipython",
    "version": 3
   },
   "file_extension": ".py",
   "mimetype": "text/x-python",
   "name": "python",
   "nbconvert_exporter": "python",
   "pygments_lexer": "ipython3",
   "version": "3.7.1"
  }
 },
 "nbformat": 4,
 "nbformat_minor": 2
}
