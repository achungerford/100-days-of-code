{
 "cells": [
  {
   "cell_type": "markdown",
   "metadata": {},
   "source": [
    "## Classes\n",
    "Classes represent real-world objects or situations (general behavior or characteristics). Classes define the general behavior that a whole category of objects can have. When you create objects from a class, each object is automatically equipped with the general behavior. Making an object from a class is called **instantiation** so you're working with an **instance** of a class. By connvention, capitalized names refer to classes in Python.\n",
    "\n",
    "**Think of class as a set of instructuions for how to make an instance.**\n",
    "\n",
    "For exaple, you can create a `class Dog` that will just represent the traits of any dog in general. Then you can describe characteristics of particular dogs to create instances of specific dogs.\n",
    "\n",
    "Each function that's part of a class is called a `method`. The `__init__()` method is a special method Python runs automatically whenever we create a new instance based on the class.\n",
    "\n",
    "### Create a class\n",
    "\n",
    "Class names should be written in `CamelCaps` where you capitalize the first letter of each word in the name and don't use uderscores.\n",
    "\n",
    "On the other hand, instance and module names should be written in `lower_case_with_underscores`.\n",
    "\n",
    "Every class should have a `\"\"\"docstring explains your class or function\"\"\"`. Each module should also have a docstring explaining what the classes in the module can be used for.\n",
    "\n",
    "Within a class you use **one blank line** between methods. In a module, use **two blank lines** between each class."
   ]
  },
  {
   "cell_type": "code",
   "execution_count": 4,
   "metadata": {},
   "outputs": [],
   "source": [
    "class Dog():\n",
    "    \"\"\"A simple dog model.\"\"\"\n",
    "    \n",
    "    def __init__(self, name, age):\n",
    "        \"\"\"Initialize name and age attributes\"\"\"\n",
    "        self.name = name\n",
    "        self.age = age\n",
    "        \n",
    "    def sit(self):\n",
    "        \"\"\"Simulate a dog sitting.\"\"\"\n",
    "        print(self.name.title() + \" is sitting.\")\n",
    "    \n",
    "    def roll_over(self):\n",
    "        \"\"\"Simulate a dog rolling over.\"\"\"\n",
    "        print(self.name.title() + \" rolled over.\")"
   ]
  },
  {
   "cell_type": "markdown",
   "metadata": {},
   "source": [
    "`self` parameter is required in the method definition and it MUST come **before** other parameters because when Python calls `__init__()` later to create an instance of Dog, the method will automatically pass the self argument. Every method call associated with a class automatically passes `self` which is a reference to the instance itself.\n",
    "\n",
    "### Attributes\n",
    "\n",
    "**Important!** The two variables `name` and `age` at lines 6 & 7 both have the prefix `self`. Any variable prefixed with `self` is available to every method in the class, and we'll also be able to access these variables through any instance created from the class. Variables that are accessible through instances like this are called **attributes**.\n",
    "\n",
    "## Create an Instance"
   ]
  },
  {
   "cell_type": "code",
   "execution_count": 5,
   "metadata": {},
   "outputs": [
    {
     "name": "stdout",
     "output_type": "stream",
     "text": [
      "My dog's name is Wharf.\n",
      "My dog is 3 years old.\n"
     ]
    }
   ],
   "source": [
    "my_dog = Dog('Wharf', 3)\n",
    "\n",
    "print(\"My dog's name is \" + my_dog.name.title() + \".\")\n",
    "print(\"My dog is \" + str(my_dog.age) + \" years old.\")"
   ]
  },
  {
   "cell_type": "markdown",
   "metadata": {},
   "source": [
    "## Calling Methods\n",
    "\n",
    "After we create an instance from the class `Dog`, we can use dot notation to call any method defined in `Dog`."
   ]
  },
  {
   "cell_type": "code",
   "execution_count": 7,
   "metadata": {},
   "outputs": [
    {
     "name": "stdout",
     "output_type": "stream",
     "text": [
      "Wharf is sitting.\n",
      "Wharf rolled over.\n"
     ]
    }
   ],
   "source": [
    "my_dog = Dog('Wharf', 3)\n",
    "\n",
    "my_dog.sit()\n",
    "my_dog.roll_over()"
   ]
  },
  {
   "cell_type": "markdown",
   "metadata": {},
   "source": [
    "## Importing\n",
    "\n",
    "When importing a module from the standard libarary along with a non-standard-library module, place the import statement for the standard library modules first, then **one blank line** separating the group of 3rd party modules."
   ]
  },
  {
   "cell_type": "code",
   "execution_count": null,
   "metadata": {},
   "outputs": [],
   "source": []
  }
 ],
 "metadata": {
  "kernelspec": {
   "display_name": "Python 3",
   "language": "python",
   "name": "python3"
  },
  "language_info": {
   "codemirror_mode": {
    "name": "ipython",
    "version": 3
   },
   "file_extension": ".py",
   "mimetype": "text/x-python",
   "name": "python",
   "nbconvert_exporter": "python",
   "pygments_lexer": "ipython3",
   "version": "3.7.1"
  }
 },
 "nbformat": 4,
 "nbformat_minor": 2
}
