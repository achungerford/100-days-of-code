{
 "cells": [
  {
   "cell_type": "markdown",
   "metadata": {},
   "source": [
    "## Ch. 8 (4 of 4): Creating a Quiz with Shelve Module\n",
    "\n",
    "### Project: Generating Random Quiz Files\n",
    "\n",
    "Say you’re a geography teacher with 35 students in your class and you want to give a pop quiz on US state capitals. Alas, your class has a few bad eggs in it, and you can’t trust the students not to cheat. You’d like to randomize the order of questions so that each quiz is unique, making it impossible for anyone to crib answers from anyone else. Of course, doing this by hand would be a lengthy and boring affair. Fortunately, you know some Python.\n",
    "\n",
    "**Here is what the program does:**\n",
    "\n",
    "* Creates 35 different quizzes.\n",
    "\n",
    "* Creates 50 multiple-choice questions for each quiz, in random order.\n",
    "\n",
    "* Provides the correct answer and three random wrong answers for each question, in random order.\n",
    "\n",
    "* Writes the quizzes to 35 text files.\n",
    "\n",
    "* Writes the answer keys to 35 text files.\n",
    "\n",
    "\n",
    "**This means the code will need to do the following:**\n",
    "\n",
    "* Store the states and their capitals in a dictionary.\n",
    "\n",
    "* Call open(), write(), and close() for the quiz and answer key text files.\n",
    "\n",
    "* Use random.shuffle() to randomize the order of the questions and multiple-choice options."
   ]
  },
  {
   "cell_type": "markdown",
   "metadata": {},
   "source": [
    "### Step 1: Store the Quiz Data in a Dictionary\n",
    "\n",
    "The first step is to create a skeleton script and fill it with your quiz data. Create a file named `randomQuizGenerator.py`, and make it look like the following:"
   ]
  },
  {
   "cell_type": "code",
   "execution_count": 2,
   "metadata": {},
   "outputs": [],
   "source": [
    "# go look at file: randomQuizGenerator.py for quiz code"
   ]
  },
  {
   "cell_type": "code",
   "execution_count": 3,
   "metadata": {},
   "outputs": [],
   "source": [
    "import pprint\n",
    "import random\n",
    "import shelve"
   ]
  },
  {
   "cell_type": "code",
   "execution_count": 4,
   "metadata": {},
   "outputs": [],
   "source": [
    "# The quiz data. Keys are states and values are their capitals.\n",
    "\n",
    "capitals = {\n",
    "    'Alabama': 'Montgomery', 'Alaska': 'Juneau', 'Arizona': 'Phoenix',\n",
    "    'Arkansas': 'Little Rock', 'California': 'Sacramento', 'Colorado': 'Denver',\n",
    "    'Connecticut': 'Hartford', 'Delaware': 'Dover', 'Florida': 'Tallahassee',\n",
    "    'Georgia': 'Atlanta', 'Hawaii': 'Honolulu', 'Idaho': 'Boise', 'Illinois':\n",
    "    'Springfield', 'Indiana': 'Indianapolis', 'Iowa': 'Des Moines', 'Kansas':\n",
    "    'Topeka', 'Kentucky': 'Frankfort', 'Louisiana': 'Baton Rouge', 'Maine':\n",
    "    'Augusta', 'Maryland': 'Annapolis', 'Massachusetts': 'Boston', 'Michigan':\n",
    "    'Lansing', 'Minnesota': 'Saint Paul', 'Mississippi': 'Jackson', 'Missouri':\n",
    "    'Jefferson City', 'Montana': 'Helena', 'Nebraska': 'Lincoln', 'Nevada':\n",
    "    'Carson City', 'New Hampshire': 'Concord', 'New Jersey': 'Trenton',\n",
    "    'New Mexico': 'Santa Fe', 'New York': 'Albany', 'North Carolina': 'Raleigh',\n",
    "    'North Dakota': 'Bismarck', 'Ohio': 'Columbus', 'Oklahoma': 'Oklahoma City',\n",
    "    'Oregon': 'Salem', 'Pennsylvania': 'Harrisburg',\n",
    "    'Rhode Island': 'Providence', 'South Carolina': 'Columbia',\n",
    "    'South Dakota': 'Pierre', 'Tennessee': 'Nashville', 'Texas': 'Austin',\n",
    "    'Utah': 'Salt Lake City', 'Vermont': 'Montpelier', 'Virginia': 'Richmond',\n",
    "    'Washington': 'Olympia', 'West Virginia': 'Charleston',\n",
    "    'Wisconsin': 'Madison', 'Wyoming': 'Cheyenne'}"
   ]
  },
  {
   "cell_type": "markdown",
   "metadata": {},
   "source": [
    "## Step 2: Write the quiz\n",
    "\n",
    "This example from Automate the Boring Stuff Chapter 8 (1st ed.) has been updated to use f-strings, which were released with Python 3.6 and did not exist when the ATBS was released using Python 3.4."
   ]
  },
  {
   "cell_type": "code",
   "execution_count": 12,
   "metadata": {},
   "outputs": [],
   "source": [
    "for quizNum in range(5):\n",
    "    # Create the quiz and answer key files.\n",
    "    quizFile = open(f'capitalsquiz{quizNum + 1}.txt', 'w')\n",
    "    answerKeyFile = open(f'capitalsquiz_answers{quizNum + 1}.txt', 'w')\n",
    "    \n",
    "    # Write out the header for the quiz.\n",
    "    quizFile.write('Name:\\n\\nDate:\\n\\nPeriod:\\n\\n')\n",
    "    quizFile.write((' ' * 20) + f'State Capitals Quiz {quizNum + 1}')\n",
    "    quizFile.write('\\n\\n')\n",
    "    \n",
    "    # Shuffle the order of the states.\n",
    "    states = list(capitals.keys())\n",
    "    random.shuffle(states)\n",
    " \n",
    "    # Loop through all 50 states, making a question for each.\n",
    "    for questionNum in range(50):\n",
    "        \n",
    "        # Get right and wrong answers.\n",
    "        correctAnswer = capitals[states[questionNum]]\n",
    "        wrongAnswers = list(capitals.values())\n",
    "        del wrongAnswers[wrongAnswers.index(correctAnswer)]\n",
    "        wrongAnswers = random.sample(wrongAnswers, 3)\n",
    "        # answer choices\n",
    "        answerOptions = wrongAnswers + [correctAnswer]\n",
    "        random.shuffle(answerOptions)\n",
    "        \n",
    "        # Write the question and the answer options to the quiz file.\n",
    "        quizFile.write(f'{questionNum + 1}. What is the capital of {states[questionNum]}?\\n')\n",
    "        for i in range(4):\n",
    "            quizFile.write('ABCD'[i] + f'. {answerOptions[i]}\\n')\n",
    "        quizFile.write('\\n')      \n",
    "    \n",
    "        # Write the answer key to a file.\n",
    "        answerKeyFile.write(f'{questionNum + 1}. '\n",
    "                            + 'ABCD'[answerOptions.index(correctAnswer)] \n",
    "                            + '\\n\\n')\n",
    "    \n",
    "    # Close files.\n",
    "    quizFile.close()\n",
    "    answerKeyFile.close()"
   ]
  }
 ],
 "metadata": {
  "kernelspec": {
   "display_name": "Python 3",
   "language": "python",
   "name": "python3"
  },
  "language_info": {
   "codemirror_mode": {
    "name": "ipython",
    "version": 3
   },
   "file_extension": ".py",
   "mimetype": "text/x-python",
   "name": "python",
   "nbconvert_exporter": "python",
   "pygments_lexer": "ipython3",
   "version": "3.7.1"
  }
 },
 "nbformat": 4,
 "nbformat_minor": 2
}
